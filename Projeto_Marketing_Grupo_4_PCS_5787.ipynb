{
  "nbformat": 4,
  "nbformat_minor": 0,
  "metadata": {
    "colab": {
      "name": "Projeto.ipynb",
      "provenance": [],
      "include_colab_link": true
    },
    "kernelspec": {
      "name": "python3",
      "display_name": "Python 3"
    },
    "language_info": {
      "name": "python"
    }
  },
  "cells": [
    {
      "cell_type": "markdown",
      "metadata": {
        "id": "view-in-github",
        "colab_type": "text"
      },
      "source": [
        "<a href=\"https://colab.research.google.com/github/DennisCG1993/sample2/blob/Projeto_Marketing_Grupo_4_PCS_5787/Projeto_Marketing_Grupo_4_PCS_5787.ipynb\" target=\"_parent\"><img src=\"https://colab.research.google.com/assets/colab-badge.svg\" alt=\"Open In Colab\"/></a>"
      ]
    },
    {
      "cell_type": "markdown",
      "metadata": {
        "id": "VFF7zIfIy4Uw"
      },
      "source": [
        "#Importação dos dados"
      ]
    },
    {
      "cell_type": "code",
      "metadata": {
        "id": "_5rlDZeg8YPB"
      },
      "source": [
        "import numpy as np\n",
        "import pandas as pd\n",
        "import matplotlib.pyplot as plt\n",
        "import seaborn as sns\n",
        "import matplotlib\n",
        "import warnings\n",
        "warnings.filterwarnings('ignore')\n",
        "import os\n",
        "import requests\n",
        "import sys\n",
        "from pycocotools.coco import COCO\n",
        "import urllib\n",
        "import zipfile "
      ],
      "execution_count": null,
      "outputs": []
    },
    {
      "cell_type": "code",
      "source": [
        "link_dataset = 'https://archive.ics.uci.edu/ml/machine-learning-databases/00222/bank.zip'\n",
        "filename = 'bank.zip'\n",
        "urllib.request.urlretrieve(link_dataset , filename=filename)\n",
        "\n",
        "with zipfile.ZipFile(filename) as z:\n",
        "    print(*z.namelist(), sep=\"\\n\")\n",
        "    file = z.namelist()[0]\n",
        "    with z.open(file) as f:\n",
        "        df = pd.read_csv(f, sep=';',low_memory=False)"
      ],
      "metadata": {
        "id": "Afy3gYAp9ncq"
      },
      "execution_count": null,
      "outputs": []
    },
    {
      "cell_type": "markdown",
      "metadata": {
        "id": "qV1-QquC9cv-"
      },
      "source": [
        "Tratamento dos dados"
      ]
    },
    {
      "cell_type": "code",
      "metadata": {
        "id": "nKINcK0Y4j8n",
        "colab": {
          "base_uri": "https://localhost:8080/",
          "height": 206
        },
        "outputId": "2554f7e9-95c6-45e3-835d-2c40c49e55a1"
      },
      "source": [
        "y = pd.get_dummies(df['y'], columns ='y', drop_first = True)\n",
        "df.head()"
      ],
      "execution_count": null,
      "outputs": [
        {
          "output_type": "execute_result",
          "data": {
            "text/html": [
              "<div>\n",
              "<style scoped>\n",
              "    .dataframe tbody tr th:only-of-type {\n",
              "        vertical-align: middle;\n",
              "    }\n",
              "\n",
              "    .dataframe tbody tr th {\n",
              "        vertical-align: top;\n",
              "    }\n",
              "\n",
              "    .dataframe thead th {\n",
              "        text-align: right;\n",
              "    }\n",
              "</style>\n",
              "<table border=\"1\" class=\"dataframe\">\n",
              "  <thead>\n",
              "    <tr style=\"text-align: right;\">\n",
              "      <th></th>\n",
              "      <th>age</th>\n",
              "      <th>job</th>\n",
              "      <th>marital</th>\n",
              "      <th>education</th>\n",
              "      <th>default</th>\n",
              "      <th>balance</th>\n",
              "      <th>housing</th>\n",
              "      <th>loan</th>\n",
              "      <th>contact</th>\n",
              "      <th>day</th>\n",
              "      <th>month</th>\n",
              "      <th>duration</th>\n",
              "      <th>campaign</th>\n",
              "      <th>pdays</th>\n",
              "      <th>previous</th>\n",
              "      <th>poutcome</th>\n",
              "      <th>y</th>\n",
              "    </tr>\n",
              "  </thead>\n",
              "  <tbody>\n",
              "    <tr>\n",
              "      <th>0</th>\n",
              "      <td>58</td>\n",
              "      <td>management</td>\n",
              "      <td>married</td>\n",
              "      <td>tertiary</td>\n",
              "      <td>no</td>\n",
              "      <td>2143</td>\n",
              "      <td>yes</td>\n",
              "      <td>no</td>\n",
              "      <td>unknown</td>\n",
              "      <td>5</td>\n",
              "      <td>may</td>\n",
              "      <td>261</td>\n",
              "      <td>1</td>\n",
              "      <td>-1</td>\n",
              "      <td>0</td>\n",
              "      <td>unknown</td>\n",
              "      <td>no</td>\n",
              "    </tr>\n",
              "    <tr>\n",
              "      <th>1</th>\n",
              "      <td>44</td>\n",
              "      <td>technician</td>\n",
              "      <td>single</td>\n",
              "      <td>secondary</td>\n",
              "      <td>no</td>\n",
              "      <td>29</td>\n",
              "      <td>yes</td>\n",
              "      <td>no</td>\n",
              "      <td>unknown</td>\n",
              "      <td>5</td>\n",
              "      <td>may</td>\n",
              "      <td>151</td>\n",
              "      <td>1</td>\n",
              "      <td>-1</td>\n",
              "      <td>0</td>\n",
              "      <td>unknown</td>\n",
              "      <td>no</td>\n",
              "    </tr>\n",
              "    <tr>\n",
              "      <th>2</th>\n",
              "      <td>33</td>\n",
              "      <td>entrepreneur</td>\n",
              "      <td>married</td>\n",
              "      <td>secondary</td>\n",
              "      <td>no</td>\n",
              "      <td>2</td>\n",
              "      <td>yes</td>\n",
              "      <td>yes</td>\n",
              "      <td>unknown</td>\n",
              "      <td>5</td>\n",
              "      <td>may</td>\n",
              "      <td>76</td>\n",
              "      <td>1</td>\n",
              "      <td>-1</td>\n",
              "      <td>0</td>\n",
              "      <td>unknown</td>\n",
              "      <td>no</td>\n",
              "    </tr>\n",
              "    <tr>\n",
              "      <th>3</th>\n",
              "      <td>47</td>\n",
              "      <td>blue-collar</td>\n",
              "      <td>married</td>\n",
              "      <td>unknown</td>\n",
              "      <td>no</td>\n",
              "      <td>1506</td>\n",
              "      <td>yes</td>\n",
              "      <td>no</td>\n",
              "      <td>unknown</td>\n",
              "      <td>5</td>\n",
              "      <td>may</td>\n",
              "      <td>92</td>\n",
              "      <td>1</td>\n",
              "      <td>-1</td>\n",
              "      <td>0</td>\n",
              "      <td>unknown</td>\n",
              "      <td>no</td>\n",
              "    </tr>\n",
              "    <tr>\n",
              "      <th>4</th>\n",
              "      <td>33</td>\n",
              "      <td>unknown</td>\n",
              "      <td>single</td>\n",
              "      <td>unknown</td>\n",
              "      <td>no</td>\n",
              "      <td>1</td>\n",
              "      <td>no</td>\n",
              "      <td>no</td>\n",
              "      <td>unknown</td>\n",
              "      <td>5</td>\n",
              "      <td>may</td>\n",
              "      <td>198</td>\n",
              "      <td>1</td>\n",
              "      <td>-1</td>\n",
              "      <td>0</td>\n",
              "      <td>unknown</td>\n",
              "      <td>no</td>\n",
              "    </tr>\n",
              "  </tbody>\n",
              "</table>\n",
              "</div>"
            ],
            "text/plain": [
              "   age           job  marital  education  ... pdays  previous poutcome   y\n",
              "0   58    management  married   tertiary  ...    -1         0  unknown  no\n",
              "1   44    technician   single  secondary  ...    -1         0  unknown  no\n",
              "2   33  entrepreneur  married  secondary  ...    -1         0  unknown  no\n",
              "3   47   blue-collar  married    unknown  ...    -1         0  unknown  no\n",
              "4   33       unknown   single    unknown  ...    -1         0  unknown  no\n",
              "\n",
              "[5 rows x 17 columns]"
            ]
          },
          "metadata": {},
          "execution_count": 51
        }
      ]
    },
    {
      "cell_type": "code",
      "metadata": {
        "id": "XMXBOAm2967S"
      },
      "source": [
        "bank_client = df.iloc[: , 0:8]"
      ],
      "execution_count": null,
      "outputs": []
    },
    {
      "cell_type": "markdown",
      "source": [
        "#Visualização"
      ],
      "metadata": {
        "id": "PNvd57Pfuyxo"
      }
    },
    {
      "cell_type": "code",
      "metadata": {
        "id": "EI3NcW-ZFuPi"
      },
      "source": [
        "fig, ax = plt.subplots()\n",
        "fig.set_size_inches(20, 8)\n",
        "sns.countplot(x = 'age', data = df[df.y=='no'])\n",
        "ax.set_xlabel('Age', fontsize=15)\n",
        "ax.set_ylabel('Count', fontsize=15)\n",
        "ax.set_title('Age Count Distribution', fontsize=15)\n",
        "sns.despine()"
      ],
      "execution_count": null,
      "outputs": []
    },
    {
      "cell_type": "code",
      "metadata": {
        "id": "NH3dikWLF2Pr"
      },
      "source": [
        "fig, ax = plt.subplots()\n",
        "fig.set_size_inches(20, 8)\n",
        "sns.countplot(x = 'age', data = df[df.y!='no'])\n",
        "ax.set_xlabel('Age', fontsize=15)\n",
        "ax.set_ylabel('Count', fontsize=15)\n",
        "ax.set_title('Age Count Distribution', fontsize=15)\n",
        "sns.despine()"
      ],
      "execution_count": null,
      "outputs": []
    },
    {
      "cell_type": "code",
      "metadata": {
        "id": "yNCH8Idx99lN"
      },
      "source": [
        "fig, ax = plt.subplots()\n",
        "fig.set_size_inches(20, 8)\n",
        "sns.countplot(x = 'age', data = bank_client)\n",
        "ax.set_xlabel('Age', fontsize=15)\n",
        "ax.set_ylabel('Count', fontsize=15)\n",
        "ax.set_title('Age Count Distribution', fontsize=15)\n",
        "sns.despine()"
      ],
      "execution_count": null,
      "outputs": []
    },
    {
      "cell_type": "code",
      "metadata": {
        "id": "msGzdQfL-G_i"
      },
      "source": [
        "fig, ax = plt.subplots()\n",
        "fig.set_size_inches(20, 8)\n",
        "sns.countplot(x = 'job', data = bank_client)\n",
        "ax.set_xlabel('Job', fontsize=15)\n",
        "ax.set_ylabel('Count', fontsize=15)\n",
        "ax.set_title('Age Count Distribution', fontsize=15)\n",
        "ax.tick_params(labelsize=15)\n",
        "sns.despine()"
      ],
      "execution_count": null,
      "outputs": []
    },
    {
      "cell_type": "code",
      "metadata": {
        "id": "3mR13mPq-Q_Y"
      },
      "source": [
        "fig, ax = plt.subplots()\n",
        "fig.set_size_inches(10, 5)\n",
        "sns.countplot(x = 'marital', data = bank_client)\n",
        "ax.set_xlabel('Marital', fontsize=15)\n",
        "ax.set_ylabel('Count', fontsize=15)\n",
        "ax.set_title('Age Count Distribution', fontsize=15)\n",
        "ax.tick_params(labelsize=15)\n",
        "sns.despine()"
      ],
      "execution_count": null,
      "outputs": []
    },
    {
      "cell_type": "code",
      "metadata": {
        "id": "CRm89F9I-YhU"
      },
      "source": [
        "fig, ax = plt.subplots()\n",
        "fig.set_size_inches(20, 5)\n",
        "sns.countplot(x = 'education', data = bank_client)\n",
        "ax.set_xlabel('Education', fontsize=15)\n",
        "ax.set_ylabel('Count', fontsize=15)\n",
        "ax.set_title('Education Count Distribution', fontsize=15)\n",
        "ax.tick_params(labelsize=15)\n",
        "sns.despine()"
      ],
      "execution_count": null,
      "outputs": []
    },
    {
      "cell_type": "code",
      "source": [
        "bank_client"
      ],
      "metadata": {
        "colab": {
          "base_uri": "https://localhost:8080/",
          "height": 423
        },
        "id": "WEvZp35H_i7A",
        "outputId": "102e02c2-931f-4e80-f3cd-07b780cdf383"
      },
      "execution_count": null,
      "outputs": [
        {
          "output_type": "execute_result",
          "data": {
            "text/html": [
              "<div>\n",
              "<style scoped>\n",
              "    .dataframe tbody tr th:only-of-type {\n",
              "        vertical-align: middle;\n",
              "    }\n",
              "\n",
              "    .dataframe tbody tr th {\n",
              "        vertical-align: top;\n",
              "    }\n",
              "\n",
              "    .dataframe thead th {\n",
              "        text-align: right;\n",
              "    }\n",
              "</style>\n",
              "<table border=\"1\" class=\"dataframe\">\n",
              "  <thead>\n",
              "    <tr style=\"text-align: right;\">\n",
              "      <th></th>\n",
              "      <th>job</th>\n",
              "      <th>marital</th>\n",
              "      <th>education</th>\n",
              "      <th>default</th>\n",
              "      <th>balance</th>\n",
              "      <th>housing</th>\n",
              "      <th>loan</th>\n",
              "    </tr>\n",
              "  </thead>\n",
              "  <tbody>\n",
              "    <tr>\n",
              "      <th>0</th>\n",
              "      <td>management</td>\n",
              "      <td>married</td>\n",
              "      <td>tertiary</td>\n",
              "      <td>no</td>\n",
              "      <td>2143</td>\n",
              "      <td>yes</td>\n",
              "      <td>no</td>\n",
              "    </tr>\n",
              "    <tr>\n",
              "      <th>1</th>\n",
              "      <td>technician</td>\n",
              "      <td>single</td>\n",
              "      <td>secondary</td>\n",
              "      <td>no</td>\n",
              "      <td>29</td>\n",
              "      <td>yes</td>\n",
              "      <td>no</td>\n",
              "    </tr>\n",
              "    <tr>\n",
              "      <th>2</th>\n",
              "      <td>entrepreneur</td>\n",
              "      <td>married</td>\n",
              "      <td>secondary</td>\n",
              "      <td>no</td>\n",
              "      <td>2</td>\n",
              "      <td>yes</td>\n",
              "      <td>yes</td>\n",
              "    </tr>\n",
              "    <tr>\n",
              "      <th>3</th>\n",
              "      <td>blue-collar</td>\n",
              "      <td>married</td>\n",
              "      <td>unknown</td>\n",
              "      <td>no</td>\n",
              "      <td>1506</td>\n",
              "      <td>yes</td>\n",
              "      <td>no</td>\n",
              "    </tr>\n",
              "    <tr>\n",
              "      <th>4</th>\n",
              "      <td>unknown</td>\n",
              "      <td>single</td>\n",
              "      <td>unknown</td>\n",
              "      <td>no</td>\n",
              "      <td>1</td>\n",
              "      <td>no</td>\n",
              "      <td>no</td>\n",
              "    </tr>\n",
              "    <tr>\n",
              "      <th>...</th>\n",
              "      <td>...</td>\n",
              "      <td>...</td>\n",
              "      <td>...</td>\n",
              "      <td>...</td>\n",
              "      <td>...</td>\n",
              "      <td>...</td>\n",
              "      <td>...</td>\n",
              "    </tr>\n",
              "    <tr>\n",
              "      <th>45206</th>\n",
              "      <td>technician</td>\n",
              "      <td>married</td>\n",
              "      <td>tertiary</td>\n",
              "      <td>no</td>\n",
              "      <td>825</td>\n",
              "      <td>no</td>\n",
              "      <td>no</td>\n",
              "    </tr>\n",
              "    <tr>\n",
              "      <th>45207</th>\n",
              "      <td>retired</td>\n",
              "      <td>divorced</td>\n",
              "      <td>primary</td>\n",
              "      <td>no</td>\n",
              "      <td>1729</td>\n",
              "      <td>no</td>\n",
              "      <td>no</td>\n",
              "    </tr>\n",
              "    <tr>\n",
              "      <th>45208</th>\n",
              "      <td>retired</td>\n",
              "      <td>married</td>\n",
              "      <td>secondary</td>\n",
              "      <td>no</td>\n",
              "      <td>5715</td>\n",
              "      <td>no</td>\n",
              "      <td>no</td>\n",
              "    </tr>\n",
              "    <tr>\n",
              "      <th>45209</th>\n",
              "      <td>blue-collar</td>\n",
              "      <td>married</td>\n",
              "      <td>secondary</td>\n",
              "      <td>no</td>\n",
              "      <td>668</td>\n",
              "      <td>no</td>\n",
              "      <td>no</td>\n",
              "    </tr>\n",
              "    <tr>\n",
              "      <th>45210</th>\n",
              "      <td>entrepreneur</td>\n",
              "      <td>married</td>\n",
              "      <td>secondary</td>\n",
              "      <td>no</td>\n",
              "      <td>2971</td>\n",
              "      <td>no</td>\n",
              "      <td>no</td>\n",
              "    </tr>\n",
              "  </tbody>\n",
              "</table>\n",
              "<p>45211 rows × 7 columns</p>\n",
              "</div>"
            ],
            "text/plain": [
              "                job   marital  education default  balance housing loan\n",
              "0        management   married   tertiary      no     2143     yes   no\n",
              "1        technician    single  secondary      no       29     yes   no\n",
              "2      entrepreneur   married  secondary      no        2     yes  yes\n",
              "3       blue-collar   married    unknown      no     1506     yes   no\n",
              "4           unknown    single    unknown      no        1      no   no\n",
              "...             ...       ...        ...     ...      ...     ...  ...\n",
              "45206    technician   married   tertiary      no      825      no   no\n",
              "45207       retired  divorced    primary      no     1729      no   no\n",
              "45208       retired   married  secondary      no     5715      no   no\n",
              "45209   blue-collar   married  secondary      no      668      no   no\n",
              "45210  entrepreneur   married  secondary      no     2971      no   no\n",
              "\n",
              "[45211 rows x 7 columns]"
            ]
          },
          "metadata": {},
          "execution_count": 28
        }
      ]
    },
    {
      "cell_type": "markdown",
      "metadata": {
        "id": "2LC7GlRULoZC"
      },
      "source": [
        "#Construção do Modelo"
      ]
    },
    {
      "cell_type": "code",
      "metadata": {
        "id": "0Oe2ttZ3LjEg"
      },
      "source": [
        "# Label encoder order is alphabetical\n",
        "from sklearn.preprocessing import LabelEncoder\n",
        "labelencoder_X = LabelEncoder()\n",
        "bank_client['job']      = labelencoder_X.fit_transform(bank_client['job']) \n",
        "bank_client['marital']  = labelencoder_X.fit_transform(bank_client['marital']) \n",
        "bank_client['education']= labelencoder_X.fit_transform(bank_client['education']) \n",
        "bank_client['default']  = labelencoder_X.fit_transform(bank_client['default']) \n",
        "bank_client['housing']  = labelencoder_X.fit_transform(bank_client['housing']) \n",
        "bank_client['loan']     = labelencoder_X.fit_transform(bank_client['loan']) "
      ],
      "execution_count": null,
      "outputs": []
    },
    {
      "cell_type": "code",
      "metadata": {
        "id": "sAY_LCKULuEJ"
      },
      "source": [
        "def age(dataframe):\n",
        "    dataframe.loc[dataframe['age'] <= 32, 'age'] = 1\n",
        "    dataframe.loc[(dataframe['age'] > 32) & (dataframe['age'] <= 47), 'age'] = 2\n",
        "    dataframe.loc[(dataframe['age'] > 47) & (dataframe['age'] <= 70), 'age'] = 3\n",
        "    dataframe.loc[(dataframe['age'] > 70) & (dataframe['age'] <= 98), 'age'] = 4\n",
        "           \n",
        "    return dataframe\n",
        "\n",
        "#age(bank_client);\n",
        "bank_client['age'] = bank_client['age']/bank_client['age'].max()"
      ],
      "execution_count": null,
      "outputs": []
    },
    {
      "cell_type": "code",
      "metadata": {
        "colab": {
          "base_uri": "https://localhost:8080/",
          "height": 206
        },
        "id": "VYe5pyvQLxna",
        "outputId": "3c4c206f-322f-4753-ccad-5872a48ced6a"
      },
      "source": [
        "bank_client.head()"
      ],
      "execution_count": null,
      "outputs": [
        {
          "output_type": "execute_result",
          "data": {
            "text/html": [
              "<div>\n",
              "<style scoped>\n",
              "    .dataframe tbody tr th:only-of-type {\n",
              "        vertical-align: middle;\n",
              "    }\n",
              "\n",
              "    .dataframe tbody tr th {\n",
              "        vertical-align: top;\n",
              "    }\n",
              "\n",
              "    .dataframe thead th {\n",
              "        text-align: right;\n",
              "    }\n",
              "</style>\n",
              "<table border=\"1\" class=\"dataframe\">\n",
              "  <thead>\n",
              "    <tr style=\"text-align: right;\">\n",
              "      <th></th>\n",
              "      <th>age</th>\n",
              "      <th>job</th>\n",
              "      <th>marital</th>\n",
              "      <th>education</th>\n",
              "      <th>default</th>\n",
              "      <th>balance</th>\n",
              "      <th>housing</th>\n",
              "      <th>loan</th>\n",
              "    </tr>\n",
              "  </thead>\n",
              "  <tbody>\n",
              "    <tr>\n",
              "      <th>0</th>\n",
              "      <td>0.610526</td>\n",
              "      <td>4</td>\n",
              "      <td>1</td>\n",
              "      <td>2</td>\n",
              "      <td>0</td>\n",
              "      <td>2143</td>\n",
              "      <td>1</td>\n",
              "      <td>0</td>\n",
              "    </tr>\n",
              "    <tr>\n",
              "      <th>1</th>\n",
              "      <td>0.463158</td>\n",
              "      <td>9</td>\n",
              "      <td>2</td>\n",
              "      <td>1</td>\n",
              "      <td>0</td>\n",
              "      <td>29</td>\n",
              "      <td>1</td>\n",
              "      <td>0</td>\n",
              "    </tr>\n",
              "    <tr>\n",
              "      <th>2</th>\n",
              "      <td>0.347368</td>\n",
              "      <td>2</td>\n",
              "      <td>1</td>\n",
              "      <td>1</td>\n",
              "      <td>0</td>\n",
              "      <td>2</td>\n",
              "      <td>1</td>\n",
              "      <td>1</td>\n",
              "    </tr>\n",
              "    <tr>\n",
              "      <th>3</th>\n",
              "      <td>0.494737</td>\n",
              "      <td>1</td>\n",
              "      <td>1</td>\n",
              "      <td>3</td>\n",
              "      <td>0</td>\n",
              "      <td>1506</td>\n",
              "      <td>1</td>\n",
              "      <td>0</td>\n",
              "    </tr>\n",
              "    <tr>\n",
              "      <th>4</th>\n",
              "      <td>0.347368</td>\n",
              "      <td>11</td>\n",
              "      <td>2</td>\n",
              "      <td>3</td>\n",
              "      <td>0</td>\n",
              "      <td>1</td>\n",
              "      <td>0</td>\n",
              "      <td>0</td>\n",
              "    </tr>\n",
              "  </tbody>\n",
              "</table>\n",
              "</div>"
            ],
            "text/plain": [
              "        age  job  marital  education  default  balance  housing  loan\n",
              "0  0.610526    4        1          2        0     2143        1     0\n",
              "1  0.463158    9        2          1        0       29        1     0\n",
              "2  0.347368    2        1          1        0        2        1     1\n",
              "3  0.494737    1        1          3        0     1506        1     0\n",
              "4  0.347368   11        2          3        0        1        0     0"
            ]
          },
          "metadata": {},
          "execution_count": 34
        }
      ]
    },
    {
      "cell_type": "code",
      "metadata": {
        "colab": {
          "base_uri": "https://localhost:8080/",
          "height": 206
        },
        "id": "ftOejnFCL8Cn",
        "outputId": "0e90d2bf-177a-4808-f541-aa255dd1e67c"
      },
      "source": [
        "bank_related = df.iloc[: , 8:12]\n",
        "bank_related.head()"
      ],
      "execution_count": null,
      "outputs": [
        {
          "output_type": "execute_result",
          "data": {
            "text/html": [
              "<div>\n",
              "<style scoped>\n",
              "    .dataframe tbody tr th:only-of-type {\n",
              "        vertical-align: middle;\n",
              "    }\n",
              "\n",
              "    .dataframe tbody tr th {\n",
              "        vertical-align: top;\n",
              "    }\n",
              "\n",
              "    .dataframe thead th {\n",
              "        text-align: right;\n",
              "    }\n",
              "</style>\n",
              "<table border=\"1\" class=\"dataframe\">\n",
              "  <thead>\n",
              "    <tr style=\"text-align: right;\">\n",
              "      <th></th>\n",
              "      <th>contact</th>\n",
              "      <th>day</th>\n",
              "      <th>month</th>\n",
              "      <th>duration</th>\n",
              "    </tr>\n",
              "  </thead>\n",
              "  <tbody>\n",
              "    <tr>\n",
              "      <th>0</th>\n",
              "      <td>unknown</td>\n",
              "      <td>5</td>\n",
              "      <td>may</td>\n",
              "      <td>261</td>\n",
              "    </tr>\n",
              "    <tr>\n",
              "      <th>1</th>\n",
              "      <td>unknown</td>\n",
              "      <td>5</td>\n",
              "      <td>may</td>\n",
              "      <td>151</td>\n",
              "    </tr>\n",
              "    <tr>\n",
              "      <th>2</th>\n",
              "      <td>unknown</td>\n",
              "      <td>5</td>\n",
              "      <td>may</td>\n",
              "      <td>76</td>\n",
              "    </tr>\n",
              "    <tr>\n",
              "      <th>3</th>\n",
              "      <td>unknown</td>\n",
              "      <td>5</td>\n",
              "      <td>may</td>\n",
              "      <td>92</td>\n",
              "    </tr>\n",
              "    <tr>\n",
              "      <th>4</th>\n",
              "      <td>unknown</td>\n",
              "      <td>5</td>\n",
              "      <td>may</td>\n",
              "      <td>198</td>\n",
              "    </tr>\n",
              "  </tbody>\n",
              "</table>\n",
              "</div>"
            ],
            "text/plain": [
              "   contact  day month  duration\n",
              "0  unknown    5   may       261\n",
              "1  unknown    5   may       151\n",
              "2  unknown    5   may        76\n",
              "3  unknown    5   may        92\n",
              "4  unknown    5   may       198"
            ]
          },
          "metadata": {},
          "execution_count": 40
        }
      ]
    },
    {
      "cell_type": "code",
      "metadata": {
        "id": "nah944DoMPHT"
      },
      "source": [
        "from sklearn.preprocessing import LabelEncoder\n",
        "labelencoder_X = LabelEncoder()\n",
        "bank_related['contact']     = labelencoder_X.fit_transform(bank_related['contact']) \n",
        "bank_related['month']       = labelencoder_X.fit_transform(bank_related['month']) \n",
        "bank_related['day'] = labelencoder_X.fit_transform(bank_related['day']) "
      ],
      "execution_count": null,
      "outputs": []
    },
    {
      "cell_type": "code",
      "metadata": {
        "id": "MH6z2WsAMeHW"
      },
      "source": [
        "def duration(data):\n",
        "\n",
        "    data.loc[data['duration'] <= 102, 'duration'] = 1\n",
        "    data.loc[(data['duration'] > 102) & (data['duration'] <= 180)  , 'duration']    = 2\n",
        "    data.loc[(data['duration'] > 180) & (data['duration'] <= 319)  , 'duration']   = 3\n",
        "    data.loc[(data['duration'] > 319) & (data['duration'] <= 644.5), 'duration'] = 4\n",
        "    data.loc[data['duration']  > 644.5, 'duration'] = 5\n",
        "\n",
        "    return data\n",
        "#duration(bank_related);\n",
        "bank_related['duration'] = bank_related['duration']/bank_related['duration'].max()"
      ],
      "execution_count": null,
      "outputs": []
    },
    {
      "cell_type": "code",
      "metadata": {
        "id": "hw6uB7_2Mr9y"
      },
      "source": [
        "bank_o = df.loc[: , ['campaign', 'pdays','previous']]\n",
        "bank_o['poutcome'].replace(['nonexistent', 'failure', 'success'], [1,2,3], inplace  = True)\n",
        "bank_o.head()"
      ],
      "execution_count": null,
      "outputs": []
    },
    {
      "cell_type": "code",
      "metadata": {
        "id": "-IvMfoD4M6d8"
      },
      "source": [
        "bank_final= pd.concat([bank_client, bank_related, bank_se, bank_o], axis = 1)\n",
        "bank_final = bank_final[['age', 'job', 'marital', 'education', 'default', 'housing', 'loan',\n",
        "                     'contact', 'month', 'day', 'duration','campaign', 'pdays', 'previous']]\n",
        "bank_final.shape"
      ],
      "execution_count": null,
      "outputs": []
    },
    {
      "cell_type": "code",
      "metadata": {
        "id": "hxLo39z2ncnr"
      },
      "source": [
        "bank_final = bank_final/bank_final.max(axis=0)"
      ],
      "execution_count": null,
      "outputs": []
    },
    {
      "cell_type": "code",
      "metadata": {
        "id": "qtgASnP9MvN9"
      },
      "source": [
        "from sklearn.model_selection import train_test_split\n",
        "X_train, X_test, y_train, y_test = train_test_split(bank_final, y, test_size = 0.1942313295, random_state = 101)\n",
        "\n",
        "from sklearn.model_selection import KFold\n",
        "from sklearn.model_selection import cross_val_score\n",
        "from sklearn.metrics import confusion_matrix, accuracy_score\n",
        "k_fold = KFold(n_splits=10, shuffle=True, random_state=0)"
      ],
      "execution_count": null,
      "outputs": []
    },
    {
      "cell_type": "code",
      "metadata": {
        "colab": {
          "base_uri": "https://localhost:8080/",
          "height": 226
        },
        "id": "FKjzCahrM8H0",
        "outputId": "013c02d4-e292-4da4-e8e5-a4755b5c13e9"
      },
      "source": [
        "X_train.head()\n"
      ],
      "execution_count": null,
      "outputs": [
        {
          "output_type": "execute_result",
          "data": {
            "text/html": [
              "<div>\n",
              "<style scoped>\n",
              "    .dataframe tbody tr th:only-of-type {\n",
              "        vertical-align: middle;\n",
              "    }\n",
              "\n",
              "    .dataframe tbody tr th {\n",
              "        vertical-align: top;\n",
              "    }\n",
              "\n",
              "    .dataframe thead th {\n",
              "        text-align: right;\n",
              "    }\n",
              "</style>\n",
              "<table border=\"1\" class=\"dataframe\">\n",
              "  <thead>\n",
              "    <tr style=\"text-align: right;\">\n",
              "      <th></th>\n",
              "      <th>age</th>\n",
              "      <th>job</th>\n",
              "      <th>marital</th>\n",
              "      <th>education</th>\n",
              "      <th>default</th>\n",
              "      <th>housing</th>\n",
              "      <th>loan</th>\n",
              "      <th>contact</th>\n",
              "      <th>month</th>\n",
              "      <th>day</th>\n",
              "      <th>duration</th>\n",
              "      <th>campaign</th>\n",
              "      <th>campaign</th>\n",
              "      <th>pdays</th>\n",
              "      <th>pdays</th>\n",
              "      <th>previous</th>\n",
              "      <th>previous</th>\n",
              "    </tr>\n",
              "  </thead>\n",
              "  <tbody>\n",
              "    <tr>\n",
              "      <th>4596</th>\n",
              "      <td>0.326316</td>\n",
              "      <td>0.090909</td>\n",
              "      <td>1.0</td>\n",
              "      <td>0.333333</td>\n",
              "      <td>0.0</td>\n",
              "      <td>0.0</td>\n",
              "      <td>0.0</td>\n",
              "      <td>1.0</td>\n",
              "      <td>0.727273</td>\n",
              "      <td>0.633333</td>\n",
              "      <td>0.053070</td>\n",
              "      <td>0.015873</td>\n",
              "      <td>0.015873</td>\n",
              "      <td>-0.001148</td>\n",
              "      <td>-0.001148</td>\n",
              "      <td>0.0</td>\n",
              "      <td>0.0</td>\n",
              "    </tr>\n",
              "    <tr>\n",
              "      <th>1020</th>\n",
              "      <td>0.378947</td>\n",
              "      <td>0.181818</td>\n",
              "      <td>0.5</td>\n",
              "      <td>0.666667</td>\n",
              "      <td>0.0</td>\n",
              "      <td>1.0</td>\n",
              "      <td>0.0</td>\n",
              "      <td>1.0</td>\n",
              "      <td>0.727273</td>\n",
              "      <td>0.200000</td>\n",
              "      <td>0.070964</td>\n",
              "      <td>0.031746</td>\n",
              "      <td>0.031746</td>\n",
              "      <td>-0.001148</td>\n",
              "      <td>-0.001148</td>\n",
              "      <td>0.0</td>\n",
              "      <td>0.0</td>\n",
              "    </tr>\n",
              "    <tr>\n",
              "      <th>16026</th>\n",
              "      <td>0.631579</td>\n",
              "      <td>0.272727</td>\n",
              "      <td>0.5</td>\n",
              "      <td>0.000000</td>\n",
              "      <td>0.0</td>\n",
              "      <td>0.0</td>\n",
              "      <td>1.0</td>\n",
              "      <td>0.5</td>\n",
              "      <td>0.454545</td>\n",
              "      <td>0.700000</td>\n",
              "      <td>0.025214</td>\n",
              "      <td>0.015873</td>\n",
              "      <td>0.015873</td>\n",
              "      <td>-0.001148</td>\n",
              "      <td>-0.001148</td>\n",
              "      <td>0.0</td>\n",
              "      <td>0.0</td>\n",
              "    </tr>\n",
              "    <tr>\n",
              "      <th>2085</th>\n",
              "      <td>0.389474</td>\n",
              "      <td>0.090909</td>\n",
              "      <td>0.5</td>\n",
              "      <td>0.333333</td>\n",
              "      <td>0.0</td>\n",
              "      <td>1.0</td>\n",
              "      <td>0.0</td>\n",
              "      <td>1.0</td>\n",
              "      <td>0.727273</td>\n",
              "      <td>0.366667</td>\n",
              "      <td>0.115087</td>\n",
              "      <td>0.111111</td>\n",
              "      <td>0.111111</td>\n",
              "      <td>-0.001148</td>\n",
              "      <td>-0.001148</td>\n",
              "      <td>0.0</td>\n",
              "      <td>0.0</td>\n",
              "    </tr>\n",
              "    <tr>\n",
              "      <th>6961</th>\n",
              "      <td>0.315789</td>\n",
              "      <td>0.090909</td>\n",
              "      <td>0.5</td>\n",
              "      <td>0.000000</td>\n",
              "      <td>0.0</td>\n",
              "      <td>1.0</td>\n",
              "      <td>0.0</td>\n",
              "      <td>1.0</td>\n",
              "      <td>0.727273</td>\n",
              "      <td>0.900000</td>\n",
              "      <td>0.032127</td>\n",
              "      <td>0.158730</td>\n",
              "      <td>0.158730</td>\n",
              "      <td>-0.001148</td>\n",
              "      <td>-0.001148</td>\n",
              "      <td>0.0</td>\n",
              "      <td>0.0</td>\n",
              "    </tr>\n",
              "  </tbody>\n",
              "</table>\n",
              "</div>"
            ],
            "text/plain": [
              "            age       job  marital  ...     pdays  previous  previous\n",
              "4596   0.326316  0.090909      1.0  ... -0.001148       0.0       0.0\n",
              "1020   0.378947  0.181818      0.5  ... -0.001148       0.0       0.0\n",
              "16026  0.631579  0.272727      0.5  ... -0.001148       0.0       0.0\n",
              "2085   0.389474  0.090909      0.5  ... -0.001148       0.0       0.0\n",
              "6961   0.315789  0.090909      0.5  ... -0.001148       0.0       0.0\n",
              "\n",
              "[5 rows x 17 columns]"
            ]
          },
          "metadata": {},
          "execution_count": 61
        }
      ]
    },
    {
      "cell_type": "code",
      "metadata": {
        "id": "uCrtfReeNAIH"
      },
      "source": [
        "from sklearn.preprocessing import StandardScaler\n",
        "sc_X = StandardScaler()\n",
        "X_train = sc_X.fit_transform(X_train)\n",
        "X_test = sc_X.transform(X_test)"
      ],
      "execution_count": null,
      "outputs": []
    },
    {
      "cell_type": "markdown",
      "metadata": {
        "id": "eynypLBdNTWY"
      },
      "source": [
        "##SVC"
      ]
    },
    {
      "cell_type": "code",
      "metadata": {
        "id": "dk-EweYsNEdG"
      },
      "source": [
        "from sklearn.svm import SVC\n",
        "svc= SVC(kernel='rbf',probability=True)\n",
        "svc.fit(X_train, y_train)\n",
        "svcpred = svc.predict(X_test)\n",
        "print(confusion_matrix(y_test, svcpred))\n",
        "print(round(accuracy_score(y_test, svcpred),2)*100)"
      ],
      "execution_count": null,
      "outputs": []
    },
    {
      "cell_type": "code",
      "source": [
        "from sklearn.metrics import classification_report\n",
        "\n",
        "print('SVM Resultado\\n',classification_report(y_test, svcpred))"
      ],
      "metadata": {
        "id": "mzvUvjwqQUHB"
      },
      "execution_count": null,
      "outputs": []
    },
    {
      "cell_type": "code",
      "source": [
        "SVCCV = (cross_val_score(svc, X_train, y_train, cv=k_fold, n_jobs=1, scoring = 'accuracy'))"
      ],
      "metadata": {
        "id": "iltkuTHrRIW3"
      },
      "execution_count": null,
      "outputs": []
    },
    {
      "cell_type": "code",
      "source": [
        "from sklearn import metrics\n",
        "fig, (ax, ax1) = plt.subplots(nrows = 1, ncols = 2, figsize = (15,5))\n",
        "probs = svc.predict_proba(X_test)\n",
        "preds = probs[:,1]\n",
        "fprsvc, tprsvc, thresholdsvc = metrics.roc_curve(y_test, preds)\n",
        "roc_aucsvc = metrics.auc(fprsvc, tprsvc)\n",
        "\n",
        "ax.plot(fprsvc, tprsvc, 'b', label = 'AUC = %0.2f' % roc_aucsvc)\n",
        "ax.plot([0, 1], [0, 1],'r--')\n",
        "ax.set_title('Receiver Operating Characteristic SVM ',fontsize=10)\n",
        "ax.set_ylabel('True Positive Rate',fontsize=20)\n",
        "ax.set_xlabel('False Positive Rate',fontsize=15)\n",
        "ax.legend(loc = 'lower right', prop={'size': 16})"
      ],
      "metadata": {
        "id": "D6GvarBf79O4"
      },
      "execution_count": null,
      "outputs": []
    },
    {
      "cell_type": "code",
      "source": [
        "from sklearn.svm import SVC\n",
        "svc= SVC(kernel = 'sigmoid')\n",
        "svc.fit(X_train, y_train)\n",
        "svcpred = svc.predict(X_test)\n",
        "print(confusion_matrix(y_test, svcpred))\n",
        "print(round(accuracy_score(y_test, svcpred),2)*100)\n",
        "SVCCV = (cross_val_score(svc, X_train, y_train, cv=k_fold, n_jobs=1, scoring = 'accuracy').mean())"
      ],
      "metadata": {
        "id": "I-4kBV4izVK4"
      },
      "execution_count": null,
      "outputs": []
    },
    {
      "cell_type": "code",
      "source": [
        "from sklearn.svm import SVC\n",
        "svc= SVC(kernel = 'linear')\n",
        "svc.fit(X_train, y_train)\n",
        "svcpred = svc.predict(X_test)\n",
        "print(confusion_matrix(y_test, svcpred))\n",
        "print(round(accuracy_score(y_test, svcpred),2)*100)\n",
        "SVCCV = (cross_val_score(svc, X_train, y_train, cv=k_fold, n_jobs=1, scoring = 'accuracy').mean())"
      ],
      "metadata": {
        "id": "YByq7QvezXv-"
      },
      "execution_count": null,
      "outputs": []
    },
    {
      "cell_type": "markdown",
      "metadata": {
        "id": "PcM0_EdaNXNl"
      },
      "source": [
        "##KNN"
      ]
    },
    {
      "cell_type": "code",
      "metadata": {
        "id": "aqt_NvAbNWO4"
      },
      "source": [
        "from sklearn.neighbors import KNeighborsClassifier\n",
        "knn = KNeighborsClassifier(n_neighbors=22)\n",
        "knn.fit(X_train, y_train)\n",
        "knnpred = knn.predict(X_test)\n",
        "\n",
        "print(confusion_matrix(y_test, knnpred))\n",
        "print(round(accuracy_score(y_test, knnpred),2)*100)\n",
        "#KNNCV = (cross_val_score(knn, X_train, y_train, cv=k_fold, n_jobs=1, scoring = 'accuracy').mean())"
      ],
      "execution_count": null,
      "outputs": []
    }
  ]
}